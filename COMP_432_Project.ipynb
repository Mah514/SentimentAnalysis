{
  "nbformat": 4,
  "nbformat_minor": 0,
  "metadata": {
    "colab": {
      "name": "COMP_432_Project.ipynb",
      "provenance": [],
      "collapsed_sections": [
        "OU8_wApvPsop",
        "D1ZRZ7EUQFcJ",
        "2yCsX3QnQJmp",
        "i63j64goQQeE",
        "YBiUhMJ3QU2V",
        "4IEkLP62QbMg",
        "pk6ab1L-Qgq7",
        "4xQYr612Qjmz",
        "GuOv6RLQQpAE",
        "Cp2AlvN9ISj1",
        "aSxbGE1mIVA7",
        "4UYm1a5qItec",
        "bDEi19IEQ5Qg",
        "RUVfHuq3RBWB",
        "gCe-pan6RBWY",
        "Mb_viYPIRBWY",
        "Jhrq-nhXRBWZ",
        "vXHt0p3QRBWZ",
        "8Eu2c6NcRBWa",
        "evur82OeRBWa",
        "TJCt2Vf-RBWa",
        "6jxfrpfARBWb",
        "ipWQ4l0yRBWb",
        "oPEAbxlRHGj6",
        "lufBEZNpVphv",
        "rpTFQOPPWGMn",
        "ExUQjeF3WMXk"
      ]
    },
    "kernelspec": {
      "name": "python3",
      "display_name": "Python 3"
    },
    "language_info": {
      "name": "python"
    }
  },
  "cells": [
    {
      "cell_type": "markdown",
      "metadata": {
        "id": "rkvfCplkSLZE"
      },
      "source": [
        "# COMP 432 Project\n"
      ]
    },
    {
      "cell_type": "markdown",
      "metadata": {
        "id": "vkHU1X3BPe97"
      },
      "source": [
        "## Setup\n",
        "- Ensure that in your google drive downloaded the csv file at: https://drive.google.com/file/d/1tqOWDft3DkX3hXEjUDYtAKnKPhmk6o4r/view?usp=sharing\n",
        "- Ensure that you are the directory with the cvs file\n",
        "- Make sure to run all the cells in order"
      ]
    },
    {
      "cell_type": "code",
      "metadata": {
        "id": "qYLvuKthFgum"
      },
      "source": [
        "import os\n",
        "import numpy as np\n",
        "import matplotlib.pyplot as plt\n",
        "import pandas as pd\n",
        "import scipy\n",
        "import sklearn\n",
        "import sklearn.tree\n",
        "import sklearn.metrics\n",
        "import sklearn.ensemble\n",
        "import sklearn.preprocessing\n",
        "from sklearn.preprocessing import StandardScaler\n",
        "from sklearn.base import BaseEstimator, TransformerMixin\n",
        "from sklearn.pipeline import Pipeline\n",
        "from skimage.feature import hog\n",
        "from sklearn.metrics import accuracy_score, balanced_accuracy_score\n",
        "from joblib import dump, load\n",
        "import tensorflow as tf\n",
        "import torch\n",
        "import torch.nn as nn\n",
        "import torchvision\n",
        "import torchvision.transforms as transforms\n",
        "from PIL import Image"
      ],
      "execution_count": null,
      "outputs": []
    },
    {
      "cell_type": "code",
      "metadata": {
        "colab": {
          "base_uri": "https://localhost:8080/"
        },
        "id": "cPNpXw5REPzd",
        "outputId": "313b7cfe-b84f-4944-86bc-54b33efa9b56"
      },
      "source": [
        "from google.colab import drive\n",
        "drive.mount('/content/drive')"
      ],
      "execution_count": null,
      "outputs": [
        {
          "output_type": "stream",
          "name": "stdout",
          "text": [
            "Mounted at /content/drive\n"
          ]
        }
      ]
    },
    {
      "cell_type": "code",
      "metadata": {
        "id": "--X7e3RzExPC",
        "colab": {
          "base_uri": "https://localhost:8080/"
        },
        "outputId": "b555f1b1-e16d-4b8d-a041-c47330b01ba4"
      },
      "source": [
        "%cd drive/MyDrive/COMP_432_Project"
      ],
      "execution_count": null,
      "outputs": [
        {
          "output_type": "stream",
          "name": "stdout",
          "text": [
            "/content/drive/MyDrive/COMP_432_Project\n"
          ]
        }
      ]
    },
    {
      "cell_type": "code",
      "metadata": {
        "id": "eW1HsCVDJkiZ"
      },
      "source": [
        "def prepare_data(data):\n",
        "    \"\"\" Prepare data for modeling\n",
        "        input: data frame with labels und pixel data\n",
        "        output: image and label array \"\"\"\n",
        "\n",
        "    image_array = np.zeros(shape=(len(data), 48, 48))\n",
        "    image_label = np.array(list(map(int, data['emotion'])))\n",
        "\n",
        "    for i, row in enumerate(data.index):\n",
        "        image = np.fromstring(data.loc[row, 'pixels'], dtype=int, sep=' ')\n",
        "        image = np.reshape(image, (48, 48))\n",
        "        image_array[i] = image\n",
        "\n",
        "    return image_array, image_label"
      ],
      "execution_count": null,
      "outputs": []
    },
    {
      "cell_type": "code",
      "metadata": {
        "id": "bNpb_FB3FB2O"
      },
      "source": [
        "fer2013 = pd.read_csv('fer2013.csv')\n",
        "emotion_mapping = {0: 'Angry', 1: 'Disgust', 2: 'Fear', 3: 'Happy', 4: 'Sad', 5: 'Surprise', 6: 'Neutral'}\n"
      ],
      "execution_count": null,
      "outputs": []
    },
    {
      "cell_type": "code",
      "metadata": {
        "colab": {
          "base_uri": "https://localhost:8080/",
          "height": 295
        },
        "id": "VQFKSfADrNRz",
        "outputId": "ccf5b972-14cc-410f-cf4f-1b703fd85d55"
      },
      "source": [
        "counts = fer2013['emotion'].value_counts()\n",
        "labels = fer2013['emotion'].value_counts().keys()\n",
        "plt.title(\"Fer2013 Class Distribution\")\n",
        "plt.ylabel(\"Count\")\n",
        "plt.xlabel(\"Emotions\")\n",
        "plt.bar(labels, counts, color = ['yellow', 'beige', 'blue', 'purple', 'red', 'pink', 'green'])\n",
        "plt.xticks(labels.sort_values(), ['Anger', 'Disgust', 'Fear', 'Happy', 'Sad', 'Surprise', 'Neutral'])\n",
        "plt.show()"
      ],
      "execution_count": null,
      "outputs": [
        {
          "output_type": "display_data",
          "data": {
            "image/png": "[encoded data removed]",
            "text/plain": [
              "<Figure size 432x288 with 1 Axes>"
            ]
          },
          "metadata": {
            "needs_background": "light"
          }
        }
      ]
    },
    {
      "cell_type": "code",
      "metadata": {
        "id": "UHlbSuinF8Tw"
      },
      "source": [
        "X_train, y_train = prepare_data(fer2013[fer2013['Usage'] == 'Training'])\n",
        "X_val, y_val = prepare_data(fer2013[fer2013['Usage'] == 'PrivateTest'])\n",
        "X_test, y_test = prepare_data(fer2013[fer2013['Usage'] == 'PublicTest'])"
      ],
      "execution_count": null,
      "outputs": []
    },
    {
      "cell_type": "code",
      "metadata": {
        "colab": {
          "base_uri": "https://localhost:8080/",
          "height": 285
        },
        "id": "erPdwccJW5a-",
        "outputId": "c7d81564-9805-4102-ab7a-91302d9dc87e"
      },
      "source": [
        "plt.imshow(X_train[0])"
      ],
      "execution_count": null,
      "outputs": [
        {
          "output_type": "execute_result",
          "data": {
            "text/plain": [
              "<matplotlib.image.AxesImage at 0x7f2ec2be3910>"
            ]
          },
          "metadata": {},
          "execution_count": 11
        },
        {
          "output_type": "display_data",
          "data": {
            "image/png": "[encoded data removed]",
            "text/plain": [
              "<Figure size 432x288 with 1 Axes>"
            ]
          },
          "metadata": {
            "needs_background": "light"
          }
        }
      ]
    },
    {
      "cell_type": "code",
      "metadata": {
        "id": "wzm13gbFZLvq",
        "colab": {
          "base_uri": "https://localhost:8080/"
        },
        "outputId": "0da0b3e4-f196-49fc-c8f6-8d85c4146042"
      },
      "source": [
        "print(X_train.shape)\n",
        "print(X_test.shape)\n",
        "print(X_val.shape)"
      ],
      "execution_count": null,
      "outputs": [
        {
          "output_type": "stream",
          "name": "stdout",
          "text": [
            "(28709, 48, 48)\n",
            "(3589, 48, 48)\n",
            "(3589, 48, 48)\n"
          ]
        }
      ]
    },
    {
      "cell_type": "markdown",
      "metadata": {
        "id": "CO_oBda7SlRJ"
      },
      "source": [
        "## Results\n",
        "\n",
        "- Some unsupervised were trained out of curiosity, their results are turned out to be interpretable\n",
        "- Some model might not be able to ran one after the other if the data had been transformed and requires being reset\n",
        "- SVM does take quite a while to output results"
      ]
    },
    {
      "cell_type": "markdown",
      "metadata": {
        "id": "OU8_wApvPsop"
      },
      "source": [
        "### Logistic Regression"
      ]
    },
    {
      "cell_type": "code",
      "metadata": {
        "id": "qEzPT19tP9n3"
      },
      "source": [
        "logistic_clf = load('models/best_log.joblib')\n",
        "\n",
        "X_train_log = X_train.reshape(X_train.shape[0],-1)\n",
        "X_val_log = X_val.reshape(X_val.shape[0],-1)\n",
        "X_test_log = X_test.reshape(X_test.shape[0],-1)\n",
        "\n",
        "X_train_log = X_train_log/255\n",
        "X_val_log = X_val_log/255\n",
        "X_test_log = X_test_log/255"
      ],
      "execution_count": null,
      "outputs": []
    },
    {
      "cell_type": "code",
      "metadata": {
        "colab": {
          "base_uri": "https://localhost:8080/"
        },
        "id": "D_qzAk0YsQMx",
        "outputId": "e53eab9f-4118-4963-c14e-4e622611da1d"
      },
      "source": [
        "print('Accuracy')\n",
        "print('Training: ' + str(logistic_clf.score(X_train_log,y_train)))\n",
        "print('Validation: ' + str(logistic_clf.score(X_val_log,y_val)))\n",
        "print('Test: ' +  str(logistic_clf.score(X_test_log,y_test)))\n",
        "\n",
        "print('Balanced Accuracy')\n",
        "print('Training: ' + str(balanced_accuracy_score(y_train, logistic_clf.predict(X_train_log))))\n",
        "print('Validation: ' + str(balanced_accuracy_score(y_val, logistic_clf.predict(X_val_log))))\n",
        "print('Test: ' + str(balanced_accuracy_score(y_test, logistic_clf.predict(X_test_log))))"
      ],
      "execution_count": null,
      "outputs": [
        {
          "output_type": "stream",
          "name": "stdout",
          "text": [
            "Accuracy\n",
            "Training: 0.4058309241004563\n",
            "Validation: 0.3839509612705489\n",
            "Test: 0.3825578155475063\n",
            "Balanced Accuracy\n",
            "Training: 0.32542623789001307\n",
            "Validation: 0.3053440897941413\n",
            "Test: 0.29988475959989275\n"
          ]
        }
      ]
    },
    {
      "cell_type": "code",
      "metadata": {
        "colab": {
          "base_uri": "https://localhost:8080/",
          "height": 366
        },
        "id": "a0i6FlVztawE",
        "outputId": "811da59f-b806-4c48-cc93-d83365e3b05c"
      },
      "source": [
        "sklearn.metrics.plot_confusion_matrix(logistic_clf, X_test_log, y_test, display_labels = ['Anger', 'Disgust', 'Fear', 'Happy', 'Sad', 'Surprise', 'Neutral'], xticks_rotation=90);"
      ],
      "execution_count": null,
      "outputs": [
        {
          "output_type": "stream",
          "name": "stderr",
          "text": [
            "/usr/local/lib/python3.7/dist-packages/sklearn/utils/deprecation.py:87: FutureWarning: Function plot_confusion_matrix is deprecated; Function `plot_confusion_matrix` is deprecated in 1.0 and will be removed in 1.2. Use one of the class methods: ConfusionMatrixDisplay.from_predictions or ConfusionMatrixDisplay.from_estimator.\n",
            "  warnings.warn(msg, category=FutureWarning)\n"
          ]
        },
        {
          "output_type": "display_data",
          "data": {
            "image/png": "[encoded data removed]",
            "text/plain": [
              "<Figure size 432x288 with 2 Axes>"
            ]
          },
          "metadata": {
            "needs_background": "light"
          }
        }
      ]
    },
    {
      "cell_type": "code",
      "metadata": {
        "colab": {
          "base_uri": "https://localhost:8080/"
        },
        "id": "5qVV1hTqyZ4E",
        "outputId": "eb60fcc8-5aed-462d-e46c-ad3476685b48"
      },
      "source": [
        "weights = logistic_clf.coef_"
      ],
      "execution_count": null,
      "outputs": [
        {
          "output_type": "stream",
          "name": "stdout",
          "text": [
            "(7, 2304)\n"
          ]
        }
      ]
    },
    {
      "cell_type": "code",
      "metadata": {
        "colab": {
          "base_uri": "https://localhost:8080/",
          "height": 216
        },
        "id": "jUpv46MMynlb",
        "outputId": "b0176dcd-3bda-4925-96f7-9173d8570d9d"
      },
      "source": [
        "weight_test = weights.reshape(7,48,48)\n",
        "plt.subplot(1,2,1)\n",
        "plt.title('Happy')\n",
        "plt.imshow(weight_test[3], cmap='bwr')\n",
        "plt.axis('off')\n",
        "\n",
        "plt.subplot(1,2,2)\n",
        "plt.title('Surprise')\n",
        "plt.imshow(weight_test[5], cmap='bwr')\n",
        "plt.axis('off')"
      ],
      "execution_count": null,
      "outputs": [
        {
          "output_type": "execute_result",
          "data": {
            "text/plain": [
              "(-0.5, 47.5, 47.5, -0.5)"
            ]
          },
          "metadata": {},
          "execution_count": 40
        },
        {
          "output_type": "display_data",
          "data": {
            "image/png": "[encoded data removed]",
            "text/plain": [
              "<Figure size 432x288 with 2 Axes>"
            ]
          },
          "metadata": {
            "needs_background": "light"
          }
        }
      ]
    },
    {
      "cell_type": "markdown",
      "metadata": {
        "id": "D1ZRZ7EUQFcJ"
      },
      "source": [
        "### Kernel Density"
      ]
    },
    {
      "cell_type": "code",
      "metadata": {
        "id": "qG31HjO5QJM-"
      },
      "source": [
        "X_train = X_train.reshape(X_train.shape[0], -1)\n",
        "X_train = X_train/255\n",
        "X_test = X_test.reshape(X_test.shape[0], -1)\n",
        "X_test = X_test/255\n",
        "X_val = X_val.reshape(X_val.shape[0], -1)\n",
        "X_val = X_val/255\n",
        "kdeData = load('models/kde.joblib')\n",
        "trainD = kdeData.score(X_train,y_train)\n",
        "testD = kdeData.score(X_test, y_test)\n",
        "valD = kdeData.score(X_val,y_val)"
      ],
      "execution_count": null,
      "outputs": []
    },
    {
      "cell_type": "markdown",
      "metadata": {
        "id": "2yCsX3QnQJmp"
      },
      "source": [
        "### Gaussian Mixtures"
      ]
    },
    {
      "cell_type": "code",
      "metadata": {
        "id": "xMMb47UbQQD1"
      },
      "source": [
        "X_train = X_train.reshape(X_train.shape[0], -1)\n",
        "X_train = X_train/255\n",
        "X_test = X_test.reshape(X_test.shape[0], -1)\n",
        "X_test = X_test/255\n",
        "X_val = X_val.reshape(X_val.shape[0], -1)\n",
        "X_val = X_val/255\n",
        "gmm_clf = load('models/gmm.joblib') \n",
        "trainGMM = gmm_clf.score(X_train,y_train)\n",
        "testGMM = gmm_clf.score(X_test, y_test)\n",
        "valGMM = gmm_clf.score(X_val,y_val)\n",
        "print(trainGMM)\n",
        "print(testGMM)\n",
        "print(valGMM)"
      ],
      "execution_count": null,
      "outputs": []
    },
    {
      "cell_type": "markdown",
      "metadata": {
        "id": "i63j64goQQeE"
      },
      "source": [
        "### Decision Tree"
      ]
    },
    {
      "cell_type": "code",
      "metadata": {
        "id": "PZLE2EFZQUcM",
        "colab": {
          "base_uri": "https://localhost:8080/",
          "height": 470
        },
        "outputId": "c76b9eed-c308-4ac4-dcfd-f792f02eeae0"
      },
      "source": [
        "tree_clf_grid_search = load('models/decision_tree_randomsearch.joblib')\n",
        "print('the accuracy score on the test data of the best decision tree estimator found using RandomSearchCV is: ' + str(accuracy_score(y_test, tree_clf_grid_search.best_estimator_.predict(X_test.reshape(X_test.shape[0], -1))) * 100) + '%');\n",
        "print('the balanced accuracy score on the test data of the best decision tree estimator found using RandomSearchCV is: ' + str(balanced_accuracy_score(y_test, tree_clf_grid_search.best_estimator_.predict(X_test.reshape(X_test.shape[0], -1))) * 100) + '%');\n",
        "print('the accuracy score on the training data of the best decision tree estimator found using RandomSearchCV is: ' + str(accuracy_score(y_train, tree_clf_grid_search.best_estimator_.predict(X_train.reshape(X_train.shape[0], -1))) * 100) + '%');\n",
        "print('the balanced accuracy score on the training data of the best decision tree estimator found using RandomSearchCV is: ' + str(balanced_accuracy_score(y_train, tree_clf_grid_search.best_estimator_.predict(X_train.reshape(X_train.shape[0], -1))) * 100) + '%');\n",
        "print('the accuracy score on the validation data of the best decision tree estimator found using RandomSearchCV is: ' + str(accuracy_score(y_val, tree_clf_grid_search.best_estimator_.predict(X_val.reshape(X_val.shape[0], -1))) * 100) + '%');\n",
        "print('the balanced accuracy score on the validation data of the best decision tree estimator found using RandomSearchCV is: ' + str(balanced_accuracy_score(y_val, tree_clf_grid_search.best_estimator_.predict(X_val.reshape(X_val.shape[0], -1))) * 100) + '%');\n",
        "sklearn.metrics.plot_confusion_matrix(tree_clf_grid_search.best_estimator_, X_test.reshape(X_test.shape[0], -1), y_test, display_labels = ['Anger', 'Disgust', 'Fear', 'Happy', 'Sad', 'Surprise', 'Neutral'], xticks_rotation=90);\n"
      ],
      "execution_count": null,
      "outputs": [
        {
          "output_type": "stream",
          "name": "stdout",
          "text": [
            "the accuracy score on the test data of the best decision tree estimator found using RandomSearchCV is: 31.039286709389803%\n",
            "the balanced accuracy score on the test data of the best decision tree estimator found using RandomSearchCV is: 30.579626595355975%\n",
            "the accuracy score on the training data of the best decision tree estimator found using RandomSearchCV is: 99.82932181545857%\n",
            "the balanced accuracy score on the training data of the best decision tree estimator found using RandomSearchCV is: 99.81054395280464%\n",
            "the accuracy score on the validation data of the best decision tree estimator found using RandomSearchCV is: 31.680133741989415%\n",
            "the balanced accuracy score on the validation data of the best decision tree estimator found using RandomSearchCV is: 31.844186112861873%\n"
          ]
        },
        {
          "output_type": "stream",
          "name": "stderr",
          "text": [
            "/usr/local/lib/python3.7/dist-packages/sklearn/utils/deprecation.py:87: FutureWarning: Function plot_confusion_matrix is deprecated; Function `plot_confusion_matrix` is deprecated in 1.0 and will be removed in 1.2. Use one of the class methods: ConfusionMatrixDisplay.from_predictions or ConfusionMatrixDisplay.from_estimator.\n",
            "  warnings.warn(msg, category=FutureWarning)\n"
          ]
        },
        {
          "output_type": "display_data",
          "data": {
            "image/png": "[encoded data removed]",
            "text/plain": [
              "<Figure size 432x288 with 2 Axes>"
            ]
          },
          "metadata": {
            "needs_background": "light"
          }
        }
      ]
    },
    {
      "cell_type": "code",
      "metadata": {
        "colab": {
          "base_uri": "https://localhost:8080/",
          "height": 285
        },
        "id": "FB1C1esqR5T-",
        "outputId": "3e30861a-3ccf-4793-fc4c-21d61d5bab31"
      },
      "source": [
        "\"\"\"\n",
        "Plotting the feature importances of the best-performing Decision Tree,\n",
        "\"\"\"\n",
        "estimator = tree_clf_grid_search.best_estimator_\n",
        "importances = estimator.feature_importances_\n",
        "importances = importances.reshape(48, 48)\n",
        "plt.imshow(importances[:, :], cmap='cool', interpolation='nearest')\n",
        "plt.title('Feature importances of Decision Tree')\n",
        "#Hide x and y ticks\n",
        "plt.xticks([])\n",
        "plt.yticks([])"
      ],
      "execution_count": null,
      "outputs": [
        {
          "output_type": "execute_result",
          "data": {
            "text/plain": [
              "([], <a list of 0 Text major ticklabel objects>)"
            ]
          },
          "metadata": {},
          "execution_count": 35
        },
        {
          "output_type": "display_data",
          "data": {
            "image/png": "[encoded data removed]",
            "text/plain": [
              "<Figure size 432x288 with 1 Axes>"
            ]
          },
          "metadata": {}
        }
      ]
    },
    {
      "cell_type": "markdown",
      "metadata": {
        "id": "YBiUhMJ3QU2V"
      },
      "source": [
        "### Random Forest"
      ]
    },
    {
      "cell_type": "code",
      "metadata": {
        "id": "SrbELF2jQanP",
        "colab": {
          "base_uri": "https://localhost:8080/",
          "height": 470
        },
        "outputId": "3b4af2a1-cda7-48dd-a214-25c6aef325f6"
      },
      "source": [
        "forest_clf_grid_search = load('models/forest_gridsearch.joblib')\n",
        "print('the accuracy score on the test data of the best forest estimator found using GridSearchCV is: ' + str(accuracy_score(y_test, forest_clf_grid_search.best_estimator_.predict(X_test.reshape(X_test.shape[0], -1))) * 100) + '%');\n",
        "print('the balanced accuracy score on the test data of the best forest estimator found using GridSearchCV is: ' + str(balanced_accuracy_score(y_test, forest_clf_grid_search.best_estimator_.predict(X_test.reshape(X_test.shape[0], -1))) * 100) + '%');\n",
        "print('the accuracy score on the training data of the best forest estimator found using RandomSearchCV is: ' + str(accuracy_score(y_train, forest_clf_grid_search.best_estimator_.predict(X_train.reshape(X_train.shape[0], -1))) * 100) + '%');\n",
        "print('the balanced accuracy score on the training data of the best forest estimator found using RandomSearchCV is: ' + str(balanced_accuracy_score(y_train, forest_clf_grid_search.best_estimator_.predict(X_train.reshape(X_train.shape[0], -1))) * 100) + '%');\n",
        "print('the accuracy score on the validation data of the best forest estimator found using RandomSearchCV is: ' + str(accuracy_score(y_val, forest_clf_grid_search.best_estimator_.predict(X_val.reshape(X_val.shape[0], -1))) * 100) + '%');\n",
        "print('the balanced accuracy score on the validation data of the best forest estimator found using RandomSearchCV is: ' + str(balanced_accuracy_score(y_val, forest_clf_grid_search.best_estimator_.predict(X_val.reshape(X_val.shape[0], -1))) * 100) + '%');\n",
        "sklearn.metrics.plot_confusion_matrix(forest_clf_grid_search.best_estimator_, X_test.reshape(X_test.shape[0], -1), y_test, display_labels = ['Anger', 'Disgust', 'Fear', 'Happy', 'Sad', 'Surprise', 'Neutral'], xticks_rotation=90);\n"
      ],
      "execution_count": null,
      "outputs": [
        {
          "output_type": "stream",
          "name": "stdout",
          "text": [
            "the accuracy score on the test data of the best forest estimator found using GridSearchCV is: 47.86848704374478%\n",
            "the balanced accuracy score on the test data of the best forest estimator found using GridSearchCV is: 42.13069903899861%\n",
            "the accuracy score on the training data of the best forest estimator found using RandomSearchCV is: 99.85022118499425%\n",
            "the balanced accuracy score on the training data of the best forest estimator found using RandomSearchCV is: 99.82621539785819%\n",
            "the accuracy score on the validation data of the best forest estimator found using RandomSearchCV is: 48.815826135413765%\n",
            "the balanced accuracy score on the validation data of the best forest estimator found using RandomSearchCV is: 44.18231823353791%\n"
          ]
        },
        {
          "output_type": "stream",
          "name": "stderr",
          "text": [
            "/usr/local/lib/python3.7/dist-packages/sklearn/utils/deprecation.py:87: FutureWarning: Function plot_confusion_matrix is deprecated; Function `plot_confusion_matrix` is deprecated in 1.0 and will be removed in 1.2. Use one of the class methods: ConfusionMatrixDisplay.from_predictions or ConfusionMatrixDisplay.from_estimator.\n",
            "  warnings.warn(msg, category=FutureWarning)\n"
          ]
        },
        {
          "output_type": "display_data",
          "data": {
            "image/png": "[encoded data removed]",
            "text/plain": [
              "<Figure size 432x288 with 2 Axes>"
            ]
          },
          "metadata": {
            "needs_background": "light"
          }
        }
      ]
    },
    {
      "cell_type": "code",
      "metadata": {
        "colab": {
          "base_uri": "https://localhost:8080/",
          "height": 285
        },
        "id": "cqO92Du8NEuQ",
        "outputId": "fa713252-7226-4874-caf8-44bf50c39b0a"
      },
      "source": [
        "\"\"\"\n",
        "Plotting the feature importances of the best-performing RandomForestClassifier,\n",
        "\"\"\"\n",
        "estimator = forest_clf_grid_search.best_estimator_\n",
        "importances = estimator.feature_importances_\n",
        "importances = importances.reshape(48, 48)\n",
        "plt.imshow(importances[:, :], cmap='cool', interpolation='nearest')\n",
        "plt.title('Feature importances of Random Forest')\n",
        "#Hide x and y ticks\n",
        "plt.xticks([])\n",
        "plt.yticks([])\n"
      ],
      "execution_count": null,
      "outputs": [
        {
          "output_type": "execute_result",
          "data": {
            "text/plain": [
              "([], <a list of 0 Text major ticklabel objects>)"
            ]
          },
          "metadata": {},
          "execution_count": 34
        },
        {
          "output_type": "display_data",
          "data": {
            "image/png": "[encoded data removed]",
            "text/plain": [
              "<Figure size 432x288 with 1 Axes>"
            ]
          },
          "metadata": {}
        }
      ]
    },
    {
      "cell_type": "markdown",
      "metadata": {
        "id": "4IEkLP62QbMg"
      },
      "source": [
        "### Ada Boost with Decision Stump"
      ]
    },
    {
      "cell_type": "code",
      "metadata": {
        "colab": {
          "base_uri": "https://localhost:8080/"
        },
        "id": "rqCa8EgqLVRB",
        "outputId": "b1925194-10b6-4e39-9677-695a534298be"
      },
      "source": [
        "Ada_randomSearch = load('models/ada_randomsearch.joblib')\n",
        "print('the accuracy score on the test data of the highest performing Ada estimator based on n_estimators found using RandomSearchCV is: ' + str(accuracy_score(y_test, Ada_randomSearch.best_estimator_.predict(X_test.reshape(X_test.shape[0], -1))) * 100) + '%');\n",
        "print('the balanced accuracy score on the test data of the highest performing Ada estimator based on n_estimators found using RandomSearchCV is: ' + str(balanced_accuracy_score(y_test, Ada_randomSearch.best_estimator_.predict(X_test.reshape(X_test.shape[0], -1))) * 100) + '%');\n",
        "print('the accuracy score on the training data of the best Ada estimator based on n_estimators found using RandomSearchCV is: ' + str(accuracy_score(y_train, Ada_randomSearch.best_estimator_.predict(X_train.reshape(X_train.shape[0], -1))) * 100) + '%');\n",
        "print('the balanced accuracy score on the training data of the Ada estimator based on n_estimators found using RandomSearchCV is: ' + str(balanced_accuracy_score(y_train, Ada_randomSearch.best_estimator_.predict(X_train.reshape(X_train.shape[0], -1))) * 100) + '%');\n",
        "print('the accuracy score on the validation data of the best Ada estimator based on n_estimators found using RandomSearchCV is: ' + str(accuracy_score(y_val, Ada_randomSearch.best_estimator_.predict(X_val.reshape(X_val.shape[0], -1))) * 100) + '%');\n",
        "print('the balanced accuracy score on the validation data of the best Ada estimator based on n_estimators found using RandomSearchCV is: ' + str(balanced_accuracy_score(y_val, Ada_randomSearch.best_estimator_.predict(X_val.reshape(X_val.shape[0], -1))) * 100) + '%');\n"
      ],
      "execution_count": null,
      "outputs": [
        {
          "output_type": "stream",
          "name": "stdout",
          "text": [
            "the accuracy score on the test data of the highest performing Ada estimator based on n_estimators found using RandomSearchCV is: 35.051546391752574%\n",
            "the balanced accuracy score on the test data of the highest performing Ada estimator based on n_estimators found using RandomSearchCV is: 28.87208397062369%\n",
            "the accuracy score on the training data of the best Ada estimator based on n_estimators found using RandomSearchCV is: 35.34780034135637%\n",
            "the balanced accuracy score on the training data of the Ada estimator based on n_estimators found using RandomSearchCV is: 29.71098574810011%\n",
            "the accuracy score on the validation data of the best Ada estimator based on n_estimators found using RandomSearchCV is: 33.90916689885762%\n",
            "the balanced accuracy score on the validation data of the best Ada estimator based on n_estimators found using RandomSearchCV is: 28.005001551248434%\n"
          ]
        }
      ]
    },
    {
      "cell_type": "code",
      "metadata": {
        "id": "f5sHdb4LQgKd",
        "colab": {
          "base_uri": "https://localhost:8080/",
          "height": 748
        },
        "outputId": "b32b7e3d-7877-4a74-c75d-041b816efb8d"
      },
      "source": [
        "Ada_boost_clfs = []\n",
        "for i in range(7):\n",
        "  Ada_boost_clfs.append(load(''.join(['ada', str(i), '.joblib'])))\n",
        "\n",
        "learning_rates = np.arange(0.5, 1.2, 0.1)\n",
        "accuracies = []\n",
        "for i in range(7):\n",
        "    accuracies.append(sklearn.metrics.accuracy_score(y_test, Ada_boost_clfs[i].predict(X_test.reshape(X_test.shape[0], -1)))*100)\n",
        "\n",
        "# Plot the accuracies\n",
        "plt.plot(learning_rates, accuracies, 'k')\n",
        "plt.xlim([0.5, 1.1])\n",
        "plt.ylim([0, 100])\n",
        "plt.xlabel('learning rate')\n",
        "plt.ylabel('mean accuracy')\n",
        "plt.title('training accuracy of successive learning rate boosting')\n",
        "\n",
        "Ada = load('ideal_ada.joblib')\n",
        "print('the accuracy score on the test data of the best Ada estimator found based on learning-rate hyperparameter search: ' + str(accuracy_score(y_test, Ada.predict(X_test.reshape(X_test.shape[0], -1))) * 100) + '%');\n",
        "print('the balanced accuracy score on the test data of the best Ada estimator found based on learning-rate hyperparameter search: ' + str(balanced_accuracy_score(y_test, Ada.predict(X_test.reshape(X_test.shape[0], -1))) * 100) + '%');\n",
        "print('the accuracy score on the training data of the best Ada estimator based on learning-rate hyperparameter search: ' + str(accuracy_score(y_train, Ada.predict(X_train.reshape(X_train.shape[0], -1))) * 100) + '%');\n",
        "print('the balanced accuracy score on the training data of the Ada estimator based on learning-rate hyperparameter search: ' + str(balanced_accuracy_score(y_train, Ada.predict(X_train.reshape(X_train.shape[0], -1))) * 100) + '%');\n",
        "print('the accuracy score on the validation data of the best Ada estimator based on learning-rate hyperparameter search: ' + str(accuracy_score(y_val, Ada.predict(X_val.reshape(X_val.shape[0], -1))) * 100) + '%');\n",
        "print('the balanced accuracy score on the validation data of the best Ada estimator based on learning-rate hyperparameter search: ' + str(balanced_accuracy_score(y_val, Ada.predict(X_val.reshape(X_val.shape[0], -1))) * 100) + '%');\n",
        "sklearn.metrics.plot_confusion_matrix(Ada, X_test.reshape(X_test.shape[0], -1), y_test, display_labels = ['Anger', 'Disgust', 'Fear', 'Happy', 'Sad', 'Surprise', 'Neutral'], xticks_rotation=90);\n"
      ],
      "execution_count": null,
      "outputs": [
        {
          "output_type": "stream",
          "name": "stdout",
          "text": [
            "the accuracy score on the test data of the best Ada estimator found based on learning-rate hyperparameter search: 37.057676232933964%\n",
            "the balanced accuracy score on the test data of the best Ada estimator found based on learning-rate hyperparameter search: 30.441654719380633%\n",
            "the accuracy score on the training data of the best Ada estimator based on learning-rate hyperparameter search: 36.67839353512836%\n",
            "the balanced accuracy score on the training data of the Ada estimator based on learning-rate hyperparameter search: 29.671659547086985%\n",
            "the accuracy score on the validation data of the best Ada estimator based on learning-rate hyperparameter search: 35.69239342435219%\n",
            "the balanced accuracy score on the validation data of the best Ada estimator based on learning-rate hyperparameter search: 28.717346427692753%\n"
          ]
        },
        {
          "output_type": "stream",
          "name": "stderr",
          "text": [
            "/usr/local/lib/python3.7/dist-packages/sklearn/utils/deprecation.py:87: FutureWarning: Function plot_confusion_matrix is deprecated; Function `plot_confusion_matrix` is deprecated in 1.0 and will be removed in 1.2. Use one of the class methods: ConfusionMatrixDisplay.from_predictions or ConfusionMatrixDisplay.from_estimator.\n",
            "  warnings.warn(msg, category=FutureWarning)\n"
          ]
        },
        {
          "output_type": "display_data",
          "data": {
            "image/png": "[encoded data removed]",
            "text/plain": [
              "<Figure size 432x288 with 1 Axes>"
            ]
          },
          "metadata": {
            "needs_background": "light"
          }
        },
        {
          "output_type": "display_data",
          "data": {
            "image/png": "[encoded data removed]",
            "text/plain": [
              "<Figure size 432x288 with 2 Axes>"
            ]
          },
          "metadata": {
            "needs_background": "light"
          }
        }
      ]
    },
    {
      "cell_type": "markdown",
      "metadata": {
        "id": "pk6ab1L-Qgq7"
      },
      "source": [
        "### SVM"
      ]
    },
    {
      "cell_type": "code",
      "metadata": {
        "id": "p6qRIMc4QjSS"
      },
      "source": [
        "svm_clf = load('models/best_svm.joblib')\n",
        "\n",
        "X_train_svm = X_train.reshape(X_train.shape[0],-1)\n",
        "X_val_svm = X_val.reshape(X_val.shape[0],-1)\n",
        "X_test_svm = X_test.reshape(X_test.shape[0],-1)\n",
        "\n",
        "scalify = StandardScaler()\n",
        "X_train_svm = scalify.fit_transform(X_train_svm)\n",
        "X_val_svm = scalify.transform(X_val_svm)\n",
        "X_test_svm = scalify.transform(X_test_svm)"
      ],
      "execution_count": null,
      "outputs": []
    },
    {
      "cell_type": "code",
      "metadata": {
        "colab": {
          "base_uri": "https://localhost:8080/"
        },
        "id": "tnltNu4dz-Qx",
        "outputId": "e94afcb4-b700-4d4d-f498-73173ec25bd3"
      },
      "source": [
        "print('Accuracy')\n",
        "print('Training: ' + str(svm_clf.score(X_train_svm,y_train)))\n",
        "print('Validation: ' + str(svm_clf.score(X_val_svm,y_val)))\n",
        "print('Test: ' +  str(svm_clf.score(X_test_svm,y_test)))\n",
        "\n",
        "print('Balanced Accuracy')\n",
        "print('Training: ' + str(balanced_accuracy_score(y_train, svm_clf.predict(X_train_svm))))\n",
        "print('Validation: ' + str(balanced_accuracy_score(y_val, svm_clf.predict(X_val_svm))))\n",
        "print('Test: ' + str(balanced_accuracy_score(y_test, svm_clf.predict(X_test_svm))))"
      ],
      "execution_count": null,
      "outputs": [
        {
          "output_type": "stream",
          "name": "stdout",
          "text": [
            "Accuracy\n",
            "Training: 0.9470549305095963\n",
            "Validation: 0.4856505990526609\n",
            "Test: 0.4831429367511842\n",
            "Balanced Accuracy\n",
            "Training: 0.9352714013749175\n",
            "Validation: 0.47324533837745875\n",
            "Test: 0.4471086313161901\n"
          ]
        }
      ]
    },
    {
      "cell_type": "code",
      "metadata": {
        "colab": {
          "base_uri": "https://localhost:8080/",
          "height": 366
        },
        "id": "jvInnTVOH6Wu",
        "outputId": "62a01a52-664c-4960-c431-8d06f2fe3c0e"
      },
      "source": [
        "sklearn.metrics.plot_confusion_matrix(svm_clf, X_test_svm, y_test, display_labels = ['Anger', 'Disgust', 'Fear', 'Happy', 'Sad', 'Surprise', 'Neutral'], xticks_rotation=90);"
      ],
      "execution_count": null,
      "outputs": [
        {
          "output_type": "stream",
          "name": "stderr",
          "text": [
            "/usr/local/lib/python3.7/dist-packages/sklearn/utils/deprecation.py:87: FutureWarning: Function plot_confusion_matrix is deprecated; Function `plot_confusion_matrix` is deprecated in 1.0 and will be removed in 1.2. Use one of the class methods: ConfusionMatrixDisplay.from_predictions or ConfusionMatrixDisplay.from_estimator.\n",
            "  warnings.warn(msg, category=FutureWarning)\n"
          ]
        },
        {
          "output_type": "display_data",
          "data": {
            "image/png": "[encoded data removed]",
            "text/plain": [
              "<Figure size 432x288 with 2 Axes>"
            ]
          },
          "metadata": {
            "needs_background": "light"
          }
        }
      ]
    },
    {
      "cell_type": "markdown",
      "metadata": {
        "id": "4xQYr612Qjmz"
      },
      "source": [
        "### Linear Neural Network"
      ]
    },
    {
      "cell_type": "code",
      "metadata": {
        "id": "vX1KhpXNQorG"
      },
      "source": [
        "nn_clf = load('models/best_nn.joblib')\n",
        "\n",
        "X_train_nn = X_train.reshape(X_train.shape[0],-1)\n",
        "X_val_nn = X_val.reshape(X_val.shape[0],-1)\n",
        "X_test_nn = X_test.reshape(X_test.shape[0],-1)\n",
        "\n",
        "scalify = StandardScaler()\n",
        "X_train_nn = scalify.fit_transform(X_train_nn)\n",
        "X_val_nn = scalify.transform(X_val_nn)\n",
        "X_test_nn = scalify.transform(X_test_nn)"
      ],
      "execution_count": null,
      "outputs": []
    },
    {
      "cell_type": "code",
      "metadata": {
        "colab": {
          "base_uri": "https://localhost:8080/"
        },
        "id": "YBIwef4YKofM",
        "outputId": "dc0b8123-048c-4207-a421-d39fefa2866d"
      },
      "source": [
        "print('Accuracy')\n",
        "print('Training: ' + str(nn_clf.score(X_train_nn,y_train)))\n",
        "print('Validation: ' + str(nn_clf.score(X_val_nn,y_val)))\n",
        "print('Test: ' +  str(nn_clf.score(X_test_nn,y_test)))\n",
        "\n",
        "print('Balanced Accuracy')\n",
        "print('Training: ' + str(balanced_accuracy_score(y_train, nn_clf.predict(X_train_nn))))\n",
        "print('Validation: ' + str(balanced_accuracy_score(y_val, nn_clf.predict(X_val_nn))))\n",
        "print('Test: ' + str(balanced_accuracy_score(y_test, nn_clf.predict(X_test_nn))))"
      ],
      "execution_count": null,
      "outputs": [
        {
          "output_type": "stream",
          "name": "stdout",
          "text": [
            "Accuracy\n",
            "Training: 0.9745027691664635\n",
            "Validation: 0.4594594594594595\n",
            "Test: 0.45834494288102534\n",
            "Balanced Accuracy\n",
            "Training: 0.9728438863733748\n",
            "Validation: 0.445683837502216\n",
            "Test: 0.4448590476574836\n"
          ]
        }
      ]
    },
    {
      "cell_type": "code",
      "metadata": {
        "colab": {
          "base_uri": "https://localhost:8080/",
          "height": 366
        },
        "id": "LvM6NS4TLFEU",
        "outputId": "f1698288-c5a4-4e1e-b5d7-2b4cebc9d210"
      },
      "source": [
        "sklearn.metrics.plot_confusion_matrix(nn_clf, X_test_nn, y_test, display_labels = ['Anger', 'Disgust', 'Fear', 'Happy', 'Sad', 'Surprise', 'Neutral'], xticks_rotation=90);"
      ],
      "execution_count": null,
      "outputs": [
        {
          "output_type": "stream",
          "name": "stderr",
          "text": [
            "/usr/local/lib/python3.7/dist-packages/sklearn/utils/deprecation.py:87: FutureWarning: Function plot_confusion_matrix is deprecated; Function `plot_confusion_matrix` is deprecated in 1.0 and will be removed in 1.2. Use one of the class methods: ConfusionMatrixDisplay.from_predictions or ConfusionMatrixDisplay.from_estimator.\n",
            "  warnings.warn(msg, category=FutureWarning)\n"
          ]
        },
        {
          "output_type": "display_data",
          "data": {
            "image/png": "[encoded data removed]",
            "text/plain": [
              "<Figure size 432x288 with 2 Axes>"
            ]
          },
          "metadata": {
            "needs_background": "light"
          }
        }
      ]
    },
    {
      "cell_type": "code",
      "metadata": {
        "id": "WMMe5KKaLb1u"
      },
      "source": [
        "weight = nn_clf.coefs_\n",
        "weight = weight[0].T.reshape(400,48,48)"
      ],
      "execution_count": null,
      "outputs": []
    },
    {
      "cell_type": "code",
      "metadata": {
        "colab": {
          "base_uri": "https://localhost:8080/",
          "height": 146
        },
        "id": "fkWNMDbIMCMc",
        "outputId": "13425162-08f5-4e8e-a0cc-e1ee20a6e3b1"
      },
      "source": [
        "#03\n",
        "plt.subplot(1,3,1)\n",
        "plt.imshow(weight[0], cmap = 'gray')\n",
        "plt.axis('off')\n",
        "\n",
        "plt.subplot(1,3,2)\n",
        "plt.imshow(weight[3], cmap = 'gray')\n",
        "plt.axis('off')\n",
        "\n",
        "plt.subplot(1,3,3)\n",
        "plt.imshow(weight[1], cmap = 'gray')\n",
        "plt.axis('off')"
      ],
      "execution_count": null,
      "outputs": [
        {
          "output_type": "execute_result",
          "data": {
            "text/plain": [
              "(-0.5, 47.5, 47.5, -0.5)"
            ]
          },
          "metadata": {},
          "execution_count": 105
        },
        {
          "output_type": "display_data",
          "data": {
            "image/png": "[encoded data removed]",
            "text/plain": [
              "<Figure size 432x288 with 3 Axes>"
            ]
          },
          "metadata": {
            "needs_background": "light"
          }
        }
      ]
    },
    {
      "cell_type": "markdown",
      "metadata": {
        "id": "GuOv6RLQQpAE"
      },
      "source": [
        "### Convolutional Neural Network"
      ]
    },
    {
      "cell_type": "code",
      "metadata": {
        "id": "KTEucwh5NZV8"
      },
      "source": [
        "from keras.models import load_model\n",
        "model2 = load_model(\"models/cnn_model.hdf5\")"
      ],
      "execution_count": null,
      "outputs": []
    },
    {
      "cell_type": "code",
      "metadata": {
        "id": "_1dnc9hUcG8S"
      },
      "source": [
        "Xtrain = X_train.reshape(28709, 48, 48, 1)\n",
        "Xtest = X_test.reshape(3589, 48, 48, 1)\n",
        "Xval = X_test.reshape(3589, 48, 48, 1)"
      ],
      "execution_count": null,
      "outputs": []
    },
    {
      "cell_type": "code",
      "metadata": {
        "id": "QcRTUdkBcfIg"
      },
      "source": [
        "y_train = tf.keras.utils.to_categorical(y_train, num_classes = 7)\n",
        "y_test = tf.keras.utils.to_categorical(y_test, num_classes = 7)\n",
        "y_val = tf.keras.utils.to_categorical(y_val, num_classes = 7)"
      ],
      "execution_count": null,
      "outputs": []
    },
    {
      "cell_type": "code",
      "metadata": {
        "id": "PdKdf8OJczHQ"
      },
      "source": [
        "#Normalization\n",
        "Xtrain1 = Xtrain/255.\n",
        "Xtest1 = Xtest/255. \n",
        "Xval1 = Xval/255."
      ],
      "execution_count": null,
      "outputs": []
    },
    {
      "cell_type": "code",
      "metadata": {
        "colab": {
          "base_uri": "https://localhost:8080/"
        },
        "id": "CUPfPRRLSIQS",
        "outputId": "8a25a534-8a10-4e87-9be9-b1d32a08bded"
      },
      "source": [
        "model2.evaluate(X_test, y_test)\n",
        "model2.evaluate(X_train, y_train)\n",
        "model2.evaluate(X_val, y_val)\n"
      ],
      "execution_count": null,
      "outputs": [
        {
          "output_type": "stream",
          "name": "stdout",
          "text": [
            "113/113 [==============================] - 3s 20ms/step - loss: 1.3659 - accuracy: 0.4971\n",
            "898/898 [==============================] - 19s 21ms/step - loss: 0.9134 - accuracy: 0.6802\n",
            "113/113 [==============================] - 2s 21ms/step - loss: 1.3432 - accuracy: 0.5099\n"
          ]
        },
        {
          "output_type": "execute_result",
          "data": {
            "text/plain": [
              "[1.3431614637374878, 0.5098913311958313]"
            ]
          },
          "metadata": {},
          "execution_count": 35
        }
      ]
    },
    {
      "cell_type": "code",
      "metadata": {
        "colab": {
          "base_uri": "https://localhost:8080/",
          "height": 367
        },
        "id": "wLWOThUB5uHS",
        "outputId": "b03de121-a19a-45e9-ebdd-d002c4a4668f"
      },
      "source": [
        "from matplotlib import pyplot as plt\n",
        "plt.title(\"Accuracy and Validation_accuracy vs. number of Epochs\")\n",
        "plt.xlabel(\"Number of Epochs\")\n",
        "plt.ylabel(\"Accuracy and validation accuracy\")\n",
        "plt.plot(model.history['accuracy'],'r')\n",
        "plt.plot(model.history['val_accuracy'],'g')\n",
        "plt.legend()\n",
        "plt.grid()\n"
      ],
      "execution_count": null,
      "outputs": [
        {
          "output_type": "stream",
          "name": "stderr",
          "text": [
            "No handles with labels found to put in legend.\n"
          ]
        },
        {
          "output_type": "display_data",
          "data": {
            "image/png": "[encoded data removed]",
            "text/plain": [
              "<Figure size 720x360 with 1 Axes>"
            ]
          },
          "metadata": {
            "needs_background": "light"
          }
        }
      ]
    },
    {
      "cell_type": "markdown",
      "metadata": {
        "id": "Cp2AlvN9ISj1"
      },
      "source": [
        "### SVM HOG"
      ]
    },
    {
      "cell_type": "code",
      "metadata": {
        "id": "25fk8JvZPtuB"
      },
      "source": [
        "class HogTransformer(BaseEstimator, TransformerMixin):\n",
        "    \"\"\"\n",
        "    Expects an array of 2d arrays (1 channel images)\n",
        "    Calculates hog features for each img\n",
        "    \"\"\"\n",
        " \n",
        "    def __init__(self, y=None, orientations=9,\n",
        "                 pixels_per_cell=(8, 8),\n",
        "                 cells_per_block=(3, 3), block_norm='L2-Hys'):\n",
        "        self.y = y\n",
        "        self.orientations = orientations\n",
        "        self.pixels_per_cell = pixels_per_cell\n",
        "        self.cells_per_block = cells_per_block\n",
        "        self.block_norm = block_norm\n",
        " \n",
        "    def fit(self, X, y=None):\n",
        "        return self\n",
        " \n",
        "    def transform(self, X, y=None):\n",
        " \n",
        "        def local_hog(X):\n",
        "            return hog(X,\n",
        "                       orientations=self.orientations,\n",
        "                       pixels_per_cell=self.pixels_per_cell,\n",
        "                       cells_per_block=self.cells_per_block,\n",
        "                       block_norm=self.block_norm)\n",
        " \n",
        "        try: # parallel\n",
        "            return np.array([local_hog(img) for img in X])\n",
        "        except:\n",
        "            return np.array([local_hog(img) for img in X])"
      ],
      "execution_count": null,
      "outputs": []
    },
    {
      "cell_type": "code",
      "metadata": {
        "id": "ZZzoHa-0PtuJ"
      },
      "source": [
        "hogify = HogTransformer(\n",
        "    pixels_per_cell=(8, 8), \n",
        "    cells_per_block=(2,2), \n",
        "    orientations=8, \n",
        "    block_norm='L2-Hys'\n",
        ")\n",
        "\n",
        "scalify = StandardScaler()\n",
        "\n",
        "svm_clf_hog = load('models/best_svm_hog.joblib')"
      ],
      "execution_count": null,
      "outputs": []
    },
    {
      "cell_type": "code",
      "metadata": {
        "id": "-SE1sIaxPtuJ"
      },
      "source": [
        "X_train_hog = hogify.fit_transform(X_train)\n",
        "X_train_ready = scalify.fit_transform(X_train_hog)\n",
        "\n",
        "X_val_hog = hogify.transform(X_val)\n",
        "X_val_ready = scalify.transform(X_val_hog)\n",
        "\n",
        "X_test_hog = hogify.transform(X_test)\n",
        "X_test_ready = scalify.transform(X_test_hog)"
      ],
      "execution_count": null,
      "outputs": []
    },
    {
      "cell_type": "code",
      "metadata": {
        "colab": {
          "base_uri": "https://localhost:8080/"
        },
        "id": "w5t0JGVgQ65Y",
        "outputId": "30f2979f-3f40-43f6-f526-4acdf1c0f675"
      },
      "source": [
        "print('Accuracy')\n",
        "print('Training: ' + str(svm_clf_hog.score(X_train_ready,y_train)))\n",
        "print('Validation: ' + str(svm_clf_hog.score(X_val_ready,y_val)))\n",
        "print('Test: ' +  str(svm_clf_hog.score(X_test_ready,y_test)))\n",
        "\n",
        "print('Balanced Accuracy')\n",
        "print('Training: ' + str(balanced_accuracy_score(y_train, svm_clf_hog.predict(X_train_ready))))\n",
        "print('Validation: ' + str(balanced_accuracy_score(y_val, svm_clf_hog.predict(X_val_ready))))\n",
        "print('Test: ' + str(balanced_accuracy_score(y_test, svm_clf_hog.predict(X_test_ready))))"
      ],
      "execution_count": null,
      "outputs": [
        {
          "output_type": "stream",
          "name": "stdout",
          "text": [
            "Accuracy\n",
            "Training: 0.9980145598941098\n",
            "Validation: 0.5739760378935637\n",
            "Test: 0.5678461967121761\n",
            "Balanced Accuracy\n",
            "Training: 0.997755844675378\n",
            "Validation: 0.5567746133135569\n",
            "Test: 0.5362953694821083\n"
          ]
        }
      ]
    },
    {
      "cell_type": "markdown",
      "metadata": {
        "id": "aSxbGE1mIVA7"
      },
      "source": [
        "### Linear Neural Network HOG"
      ]
    },
    {
      "cell_type": "code",
      "metadata": {
        "id": "uhfwy50VXeTU"
      },
      "source": [
        "class HogTransformer(BaseEstimator, TransformerMixin):\n",
        "    \"\"\"\n",
        "    Expects an array of 2d arrays (1 channel images)\n",
        "    Calculates hog features for each img\n",
        "    \"\"\"\n",
        " \n",
        "    def __init__(self, y=None, orientations=9,\n",
        "                 pixels_per_cell=(8, 8),\n",
        "                 cells_per_block=(3, 3), block_norm='L2-Hys'):\n",
        "        self.y = y\n",
        "        self.orientations = orientations\n",
        "        self.pixels_per_cell = pixels_per_cell\n",
        "        self.cells_per_block = cells_per_block\n",
        "        self.block_norm = block_norm\n",
        " \n",
        "    def fit(self, X, y=None):\n",
        "        return self\n",
        " \n",
        "    def transform(self, X, y=None):\n",
        " \n",
        "        def local_hog(X):\n",
        "            return hog(X,\n",
        "                       orientations=self.orientations,\n",
        "                       pixels_per_cell=self.pixels_per_cell,\n",
        "                       cells_per_block=self.cells_per_block,\n",
        "                       block_norm=self.block_norm)\n",
        " \n",
        "        try: # parallel\n",
        "            return np.array([local_hog(img) for img in X])\n",
        "        except:\n",
        "            return np.array([local_hog(img) for img in X])"
      ],
      "execution_count": null,
      "outputs": []
    },
    {
      "cell_type": "code",
      "metadata": {
        "id": "10kWXRagXeTV"
      },
      "source": [
        "hogify = HogTransformer(\n",
        "    pixels_per_cell=(8, 8), \n",
        "    cells_per_block=(2,2), \n",
        "    orientations=8, \n",
        "    block_norm='L2-Hys'\n",
        ")\n",
        "\n",
        "scalify = StandardScaler()\n",
        "\n",
        "nn_clf_hog = load('models/best_nn_hog.joblib')"
      ],
      "execution_count": null,
      "outputs": []
    },
    {
      "cell_type": "code",
      "metadata": {
        "id": "yKid8IX3XeTV"
      },
      "source": [
        "X_train_hog = hogify.fit_transform(X_train)\n",
        "X_train_ready = scalify.fit_transform(X_train_hog)\n",
        "\n",
        "X_val_hog = hogify.transform(X_val)\n",
        "X_val_ready = scalify.transform(X_val_hog)\n",
        "\n",
        "X_test_hog = hogify.transform(X_test)\n",
        "X_test_ready = scalify.transform(X_test_hog)"
      ],
      "execution_count": null,
      "outputs": []
    },
    {
      "cell_type": "code",
      "metadata": {
        "colab": {
          "base_uri": "https://localhost:8080/"
        },
        "id": "Iy8BhCKjX66w",
        "outputId": "d6a0f149-9a8d-4756-d506-4fa6c9dea258"
      },
      "source": [
        "print('Accuracy')\n",
        "print('Training: ' + str(nn_clf_hog.score(X_train_ready,y_train)))\n",
        "print('Validation: ' + str(nn_clf_hog.score(X_val_ready,y_val)))\n",
        "print('Test: ' +  str(nn_clf_hog.score(X_test_ready,y_test)))\n",
        "\n",
        "print('Balanced Accuracy')\n",
        "print('Training: ' + str(balanced_accuracy_score(y_train, nn_clf_hog.predict(X_train_ready))))\n",
        "print('Validation: ' + str(balanced_accuracy_score(y_val, nn_clf_hog.predict(X_val_ready))))\n",
        "print('Test: ' + str(balanced_accuracy_score(y_test, nn_clf_hog.predict(X_test_ready))))"
      ],
      "execution_count": null,
      "outputs": [
        {
          "output_type": "stream",
          "name": "stdout",
          "text": [
            "Accuracy\n",
            "Training: 0.9838029886098436\n",
            "Validation: 0.5043187517414321\n",
            "Test: 0.5045973808860407\n",
            "Balanced Accuracy\n",
            "Training: 0.9827494251462052\n",
            "Validation: 0.48591734780934376\n",
            "Test: 0.4934676695574926\n"
          ]
        }
      ]
    },
    {
      "cell_type": "markdown",
      "metadata": {
        "id": "4UYm1a5qItec"
      },
      "source": [
        "### Final Results"
      ]
    },
    {
      "cell_type": "code",
      "metadata": {
        "id": "r8UMJhQ7IxIw",
        "colab": {
          "base_uri": "https://localhost:8080/",
          "height": 381
        },
        "outputId": "75217f87-25a8-42ee-ffbc-1b72a0132481"
      },
      "source": [
        "model_labels = ['Logistic Regression','Decision Tree','Random Forest', 'Ada Boost', 'SVM', 'NN', 'CNN']\n",
        "train_results_acc = [0.406, 0.998, 0.998, 0.366, 0.947, 0.974, 0.680]\n",
        "val_results_acc = [0.383, 0.316, 0.488, 0.356, 0.485, 0.459, 0.509]\n",
        "test_results_acc = [0.382, 0.310, 0.478, 0.370, 0.483, 0.458, 0.497]\n",
        "\n",
        "x_axis = np.arange(0,7)\n",
        "\n",
        "plt.title('Accuracy of Models')\n",
        "plt.ylabel('Accuracy')\n",
        "plt.xlabel('Models')\n",
        "plt.xticks(x_axis, model_labels, rotation='vertical')\n",
        "\n",
        "plt.plot(x_axis, train_results_acc, '-go', label = 'Train')\n",
        "plt.plot(x_axis, val_results_acc, '-ro', label = 'Validate')\n",
        "plt.plot(x_axis, test_results_acc, '--k', label = 'Test')\n",
        "\n",
        "plt.legend()\n",
        "plt.show()"
      ],
      "execution_count": null,
      "outputs": [
        {
          "output_type": "display_data",
          "data": {
            "image/png": "[encoded data removed]",
            "text/plain": [
              "<Figure size 432x288 with 1 Axes>"
            ]
          },
          "metadata": {
            "needs_background": "light"
          }
        }
      ]
    },
    {
      "cell_type": "code",
      "metadata": {
        "colab": {
          "base_uri": "https://localhost:8080/",
          "height": 387
        },
        "id": "SEQn6is6hhBn",
        "outputId": "c330e200-930a-44d5-9beb-c71ec98decf8"
      },
      "source": [
        "model_labels_SVM=['SVM', 'SVM w/ HOG']\n",
        "model_labels_NN=['NN', 'NN w/ HOG']\n",
        "SVM_results = [0.483, 0.567]\n",
        "NN_results = [0.458, 0.504]\n",
        "\n",
        "x_axis = np.arange(0,2)\n",
        "\n",
        "f = plt.figure(figsize=(10,5))\n",
        "f.add_subplot(1,2,1)\n",
        "plt.suptitle('Increase In Test Set Accuracy Using HOG')\n",
        "plt.title('SVM')\n",
        "plt.ylabel('Accuracy')\n",
        "plt.xlabel('Models')\n",
        "plt.xticks(x_axis, model_labels_SVM)\n",
        "plt.bar(x_axis, SVM_results, color = ['blue', 'green'])\n",
        "plt.ylim([0,0.65])\n",
        "plt.text(0 - 0.1, SVM_results[0] + 0.02, str(SVM_results[0]), color='blue', va='center', fontweight='bold')\n",
        "plt.text(1 - 0.1, SVM_results[1] + 0.02, str(SVM_results[1]), color='green', va='center', fontweight='bold')\n",
        "\n",
        "f.add_subplot(1,2,2)\n",
        "plt.title('Neural Network')\n",
        "plt.ylabel('Accuracy')\n",
        "plt.xlabel('Models')\n",
        "plt.xticks(x_axis, model_labels_NN)\n",
        "plt.bar(x_axis, NN_results, color = ['blue', 'green'])\n",
        "plt.ylim([0,0.65])\n",
        "plt.text(0 - 0.1, NN_results[0] + 0.02, str(NN_results[0]), color='blue', va='center', fontweight='bold')\n",
        "plt.text(1 - 0.1, NN_results[1] + 0.02, str(NN_results[1]), color='green', va='center', fontweight='bold')"
      ],
      "execution_count": null,
      "outputs": [
        {
          "output_type": "execute_result",
          "data": {
            "text/plain": [
              "Text(0.9, 0.524, '0.504')"
            ]
          },
          "metadata": {},
          "execution_count": 28
        },
        {
          "output_type": "display_data",
          "data": {
            "image/png": "[encoded data removed]",
            "text/plain": [
              "<Figure size 720x360 with 2 Axes>"
            ]
          },
          "metadata": {
            "needs_background": "light"
          }
        }
      ]
    },
    {
      "cell_type": "markdown",
      "metadata": {
        "id": "bDEi19IEQ5Qg"
      },
      "source": [
        "## Training\n",
        "\n",
        "- Below is the code to train the models as it was done in the project.\n",
        "- You can run them to get the same models .\n",
        "- <font color = \"red\"> __Warning they all take very long to finish training__</font>\n",
        "- Note: The models might not be able to be trained one after the other as the training data could be transformed and would need to be reset. "
      ]
    },
    {
      "cell_type": "markdown",
      "metadata": {
        "id": "RUVfHuq3RBWB"
      },
      "source": [
        "### Logistic Regression"
      ]
    },
    {
      "cell_type": "code",
      "metadata": {
        "id": "rYCUomU6J9og"
      },
      "source": [
        "X_train = X_train.reshape(X_train.shape[0],-1)\n",
        "X_val = X_val.reshape(X_val.shape[0],-1)\n",
        "X_test = X_test.reshape(X_test.shape[0],-1)"
      ],
      "execution_count": null,
      "outputs": []
    },
    {
      "cell_type": "code",
      "metadata": {
        "id": "I0DrUyOSKEEV"
      },
      "source": [
        "X_train = X_train/255\n",
        "X_val = X_val/255\n",
        "X_test = X_test/255"
      ],
      "execution_count": null,
      "outputs": []
    },
    {
      "cell_type": "code",
      "metadata": {
        "id": "tiAbZDn3KF8y"
      },
      "source": [
        "params = {'C': scipy.stats.reciprocal(1e-5,1.0)}\n",
        "clf = sklearn.linear_model.LogisticRegression(max_iter=10000,random_state = 0)"
      ],
      "execution_count": null,
      "outputs": []
    },
    {
      "cell_type": "code",
      "metadata": {
        "id": "L0HugCxYLAY_"
      },
      "source": [
        "linear_clf = sklearn.model_selection.RandomizedSearchCV(clf, params, verbose=1, random_state=0).fit(X_train,y_train)"
      ],
      "execution_count": null,
      "outputs": []
    },
    {
      "cell_type": "markdown",
      "metadata": {
        "id": "gCe-pan6RBWY"
      },
      "source": [
        "### K-Means"
      ]
    },
    {
      "cell_type": "code",
      "metadata": {
        "id": "rRkCNMDnRDGZ"
      },
      "source": [
        "#K-MEANS imports\n",
        "import sklearn.cluster   \n",
        "import mpl_toolkits.mplot3d    \n",
        "from sklearn.cluster import KMeans\n",
        "from sklearn.cluster import KMeans\n",
        "from sklearn.metrics import silhouette_score"
      ],
      "execution_count": null,
      "outputs": []
    },
    {
      "cell_type": "code",
      "metadata": {
        "id": "_esu2FvqYywh",
        "colab": {
          "base_uri": "https://localhost:8080/"
        },
        "outputId": "a92bacfe-6e54-42cb-beed-3fd037163aa4"
      },
      "source": [
        "# Checking the minimum and maximum values of x_train\n",
        "print(X_train.min())\n",
        "print(X_train.max())\n",
        "\n",
        "# Data Normalization\n",
        "\n",
        "# Conversion to float\n",
        "X_train2 = X_train.astype(\"float32\") \n",
        "X_test2 = X_test.astype(\"float32\")\n",
        "X_val2 = X_val.astype(\"float32\")\n",
        "\n",
        "# Normalization\n",
        "X_train2 = X_train2/255.0\n",
        "X_test2 = X_test2/255.0\n",
        "X_val2 = X_val2/255.0\n",
        "\n",
        "# Checking the minimum and maximum values of x_train\n",
        "print(X_train2.min())\n",
        "print(X_train2.max())"
      ],
      "execution_count": null,
      "outputs": [
        {
          "output_type": "stream",
          "name": "stdout",
          "text": [
            "0.0\n",
            "255.0\n",
            "0.0\n",
            "1.0\n"
          ]
        }
      ]
    },
    {
      "cell_type": "markdown",
      "metadata": {
        "id": "NqrBn7JNY_zB"
      },
      "source": [
        "3D -> 2D The input data have to be converted from 3 dimensional format to 2 dimensional format to be fed into the K-Means Clustering algorithm."
      ]
    },
    {
      "cell_type": "code",
      "metadata": {
        "id": "rD95Kyv5Y8Iu"
      },
      "source": [
        "# Reshaping input data\n",
        "x_train2 = X_train2.reshape(len(X_train2),-1)\n",
        "x_test2 = X_test2.reshape(len(X_test2),-1)\n",
        "x_val2 = X_val2.reshape(len(X_val2),-1)"
      ],
      "execution_count": null,
      "outputs": []
    },
    {
      "cell_type": "code",
      "metadata": {
        "colab": {
          "base_uri": "https://localhost:8080/"
        },
        "id": "klOMjDrce2fQ",
        "outputId": "69499751-5c1e-4b9e-ab31-7a240cfa6a5b"
      },
      "source": [
        "print(x_train2.shape)\n",
        "print(x_test2.shape)\n",
        "print(x_val2.shape) #2304 dimensions! Absurd"
      ],
      "execution_count": null,
      "outputs": [
        {
          "output_type": "stream",
          "name": "stdout",
          "text": [
            "(28709, 2304)\n",
            "(3589, 2304)\n",
            "(3589, 2304)\n"
          ]
        }
      ]
    },
    {
      "cell_type": "code",
      "metadata": {
        "id": "Mzqws09ygwgw"
      },
      "source": [
        "ssd=[];score=[]\n",
        "for k in range(2,10):\n",
        "    Kmeans=KMeans(n_clusters=k,random_state=4)\n",
        "    Kmeans.fit(x_train2)\n",
        "    ssd.append(Kmeans.inertia_)\n",
        "    ss=silhouette_score(x_train2,Kmeans.labels_)\n",
        "    score.append(ss)"
      ],
      "execution_count": null,
      "outputs": []
    },
    {
      "cell_type": "code",
      "metadata": {
        "colab": {
          "base_uri": "https://localhost:8080/"
        },
        "id": "cXNQv5E9vVbO",
        "outputId": "8ca7411b-eb00-440a-e75a-adefa4cc9ba7"
      },
      "source": [
        "print(score)"
      ],
      "execution_count": null,
      "outputs": [
        {
          "output_type": "stream",
          "name": "stdout",
          "text": [
            "[0.16288863, 0.10109221, 0.10010595, 0.09842205, 0.08044286, 0.07383268, 0.07112734, 0.06956878]\n"
          ]
        }
      ]
    },
    {
      "cell_type": "code",
      "metadata": {
        "id": "LxtQ7XMiv0Gm",
        "colab": {
          "base_uri": "https://localhost:8080/"
        },
        "outputId": "f5dae261-ca37-4c71-aaf6-0efd881a244f"
      },
      "source": [
        "print(ssd)"
      ],
      "execution_count": null,
      "outputs": [
        {
          "output_type": "stream",
          "name": "stdout",
          "text": [
            "[3301376.5, 3080706.0, 2930448.5, 2820657.5, 2749390.5, 2695391.5, 2646577.5, 2605383.0]\n"
          ]
        }
      ]
    },
    {
      "cell_type": "code",
      "metadata": {
        "colab": {
          "base_uri": "https://localhost:8080/",
          "height": 350
        },
        "id": "CO8AOuqo1MiS",
        "outputId": "04478b40-0883-43c1-854b-b353b125ca26"
      },
      "source": [
        "# elbow plot\n",
        "plt.rcParams['figure.figsize']=[10,5]\n",
        "plt.plot(range(2,10),ssd,marker='*',color='r')\n",
        "plt.title(\"Elbow Method\")\n",
        "plt.xlabel('No. of cluster')\n",
        "plt.ylabel('SSD')\n",
        "plt.show()\n"
      ],
      "execution_count": null,
      "outputs": [
        {
          "output_type": "display_data",
          "data": {
            "image/png": "[encoded data removed]",
            "text/plain": [
              "<Figure size 720x360 with 1 Axes>"
            ]
          },
          "metadata": {
            "needs_background": "light"
          }
        }
      ]
    },
    {
      "cell_type": "markdown",
      "metadata": {
        "id": "Mb_viYPIRBWY"
      },
      "source": [
        "### Kernel Density"
      ]
    },
    {
      "cell_type": "code",
      "metadata": {
        "id": "UsrUFw4MREXv"
      },
      "source": [
        "# Reshape the data into two dim in order to be able to fit\n",
        "X_train = X_train.reshape(X_train.shape[0], -1) \n",
        "#Reduce size\n",
        "X_train = X_train/255 \n",
        "kde = KernelDensity(kernel='tophat', bandwidth=0.2).fit(X_train)"
      ],
      "execution_count": null,
      "outputs": []
    },
    {
      "cell_type": "markdown",
      "metadata": {
        "id": "Jhrq-nhXRBWZ"
      },
      "source": [
        "### Gaussian Mixtures"
      ]
    },
    {
      "cell_type": "code",
      "metadata": {
        "id": "SnNR5BnqREul"
      },
      "source": [
        "# Reshape the data into two dim in order to be able to fit\n",
        "X_train = X_train.reshape(X_train.shape[0], -1) \n",
        "#Reduce size\n",
        "X_train = X_train/255 \n",
        "#Train with attempt to group into 9 cluster\n",
        "gmm = sklearn.mixture.GaussianMixture(n_components=7, random_state=0, n_init=4)\n",
        "gmm = gmm.fit(X_train, y_train);"
      ],
      "execution_count": null,
      "outputs": []
    },
    {
      "cell_type": "markdown",
      "metadata": {
        "id": "vXHt0p3QRBWZ"
      },
      "source": [
        "### Decision Tree"
      ]
    },
    {
      "cell_type": "code",
      "metadata": {
        "id": "NADxwsOdRFMi"
      },
      "source": [
        "# Reshape the data into two dim in order to be able to fit\n",
        "X_train = X_train.reshape(X_train.shape[0], -1)\n",
        "# Define params to be searched over\n",
        "params = {'max_depth': scipy.stats.reciprocal(10, 100)}\n",
        "# train a decision tree model on the params\n",
        "tree_clf = sklearn.tree.DecisionTreeClassifier()\n",
        "grid_search = sklearn.model_selection.RandomizedSearchCV(tree_clf, params, verbose=1, random_state=0)\n",
        "grid_search.fit(X_train, y_train)"
      ],
      "execution_count": null,
      "outputs": []
    },
    {
      "cell_type": "markdown",
      "metadata": {
        "id": "8Eu2c6NcRBWa"
      },
      "source": [
        "### Random Forest"
      ]
    },
    {
      "cell_type": "code",
      "metadata": {
        "id": "ki8QYRIJRFoL"
      },
      "source": [
        "params = {'n_estimators' : np.logspace(4, 9, base = 2, num = 6, dtype=int), 'max_depth' : np.arange(10, 130, 25)}\n",
        "forest_clf = sklearn.ensemble.RandomForestClassifier(random_state=0)\n",
        "forest_grid_search = sklearn.model_selection.GridSearchCV(forest_clf, params, verbose=1)\n",
        "forest_grid_search.fit(X_train, y_train)"
      ],
      "execution_count": null,
      "outputs": []
    },
    {
      "cell_type": "markdown",
      "metadata": {
        "id": "evur82OeRBWa"
      },
      "source": [
        "### Ada Boost with Decision Stump"
      ]
    },
    {
      "cell_type": "code",
      "metadata": {
        "id": "pAunknIgRGIw"
      },
      "source": [
        "Ada = sklearn.ensemble.AdaBoostClassifier(random_state=0)\n",
        "# Find best n_estimators for AdaBoost\n",
        "params = {'n_estimators': np.logspace(1, 2.5, num=10, dtype=int)}\n",
        "ada_grid_search = sklearn.model_selection.RandomizedSearchCV(Ada, params, verbose=1, random_state=0)\n",
        "ada_grid_search.fit(X_train, y_train)"
      ],
      "execution_count": null,
      "outputs": []
    },
    {
      "cell_type": "code",
      "metadata": {
        "id": "sHRu-1EghQDj"
      },
      "source": [
        "# Try different learning rates on the AdaBoost classifier that had the optimal number of estimators:\n",
        "scores = []\n",
        "AdaBoost_classifiers = []\n",
        "learning_rates = np.arange(0.5, 1.2, 0.1)\n",
        "for rate in learning_rates:\n",
        "  Ada = sklearn.ensemble.AdaBoostClassifier(random_state=0, n_estimators=316, learning_rate=rate)\n",
        "  Ada.fit(X_train.reshape(X_train.shape[0], -1), y_train)\n",
        "  AdaBoost_classifiers.append(Ada)\n",
        "  scores.append(Ada.score(X_test.reshape(X_test.shape[0], -1), y_test))"
      ],
      "execution_count": null,
      "outputs": []
    },
    {
      "cell_type": "markdown",
      "metadata": {
        "id": "TJCt2Vf-RBWa"
      },
      "source": [
        "### SVM"
      ]
    },
    {
      "cell_type": "code",
      "metadata": {
        "id": "-3nUOESOmEsC"
      },
      "source": [
        "X_train = X_train.reshape(X_train.shape[0],-1)\n",
        "X_val = X_val.reshape(X_val.shape[0],-1)\n",
        "X_test = X_test.reshape(X_test.shape[0],-1)"
      ],
      "execution_count": null,
      "outputs": []
    },
    {
      "cell_type": "code",
      "metadata": {
        "id": "eV0Ucy2LeduP"
      },
      "source": [
        "scalify = StandardScaler()\n",
        "X_train = scalify.fit_transform(X_train)\n",
        "X_val = scalify.transform(X_val)\n",
        "X_test = scalify.transform(X_test)"
      ],
      "execution_count": null,
      "outputs": []
    },
    {
      "cell_type": "code",
      "metadata": {
        "id": "E7NqK09vHdPc"
      },
      "source": [
        "svm_estimators = train_estimators(X_train, y_train, sklearn.svm.SVC,\n",
        "                                   'C', [0.01, 0.1, 1.0, 10.0, 100.0, 1000.0], max_iter = 10000 ,random_state=0)"
      ],
      "execution_count": null,
      "outputs": []
    },
    {
      "cell_type": "code",
      "metadata": {
        "id": "ZO6vTgft6T1H"
      },
      "source": [
        "params = {'C': scipy.stats.reciprocal(0.01,1000.0)}\n",
        "clf = sklearn.svm.SVC(max_iter=10000,random_state = 0)\n",
        "search = sklearn.model_selection.RandomizedSearchCV(clf, params, verbose=1, random_state=0, n_iter= 5, cv= 2).fit(X_train,y_train)"
      ],
      "execution_count": null,
      "outputs": []
    },
    {
      "cell_type": "markdown",
      "metadata": {
        "id": "6jxfrpfARBWb"
      },
      "source": [
        "### Linear Neural Network"
      ]
    },
    {
      "cell_type": "code",
      "metadata": {
        "id": "b0wpUf8pBfDE"
      },
      "source": [
        "X_train = X_train.reshape(X_train.shape[0],-1)\n",
        "X_val = X_val.reshape(X_val.shape[0],-1)\n",
        "X_test = X_test.reshape(X_test.shape[0],-1)"
      ],
      "execution_count": null,
      "outputs": []
    },
    {
      "cell_type": "code",
      "metadata": {
        "id": "Gm7mZ5FyCVYz"
      },
      "source": [
        "scalify = StandardScaler()\n",
        "X_train = scalify.fit_transform(X_train)\n",
        "X_val = scalify.transform(X_val)\n",
        "X_test = scalify.transform(X_test)"
      ],
      "execution_count": null,
      "outputs": []
    },
    {
      "cell_type": "code",
      "metadata": {
        "id": "kPXtb39r9pc1"
      },
      "source": [
        "nn = sklearn.neural_network.MLPClassifier(hidden_layer_sizes = (400,200,100,50), activation = 'relu',solver = 'adam', learning_rate_init = 0.001, max_iter = 200, random_state = 0, verbose = True).fit(X_train, y_train)"
      ],
      "execution_count": null,
      "outputs": []
    },
    {
      "cell_type": "markdown",
      "metadata": {
        "id": "ipWQ4l0yRBWb"
      },
      "source": [
        "### Convolutional Neural Network"
      ]
    },
    {
      "cell_type": "code",
      "metadata": {
        "colab": {
          "base_uri": "https://localhost:8080/"
        },
        "id": "VXmt9g2bSfu5",
        "outputId": "d4967289-240d-4e51-e118-289574537fd3"
      },
      "source": [
        "print(X_train.shape)\n",
        "print(X_test.shape)\n",
        "print(X_val.shape)"
      ],
      "execution_count": null,
      "outputs": [
        {
          "output_type": "stream",
          "name": "stdout",
          "text": [
            "(28709, 48, 48)\n",
            "(3589, 48, 48)\n",
            "(3589, 48, 48)\n"
          ]
        }
      ]
    },
    {
      "cell_type": "code",
      "metadata": {
        "id": "Swa4IBZfSXUa"
      },
      "source": [
        "Xtrain = X_train.reshape(28709, 48, 48, 1) #CNN takes 3D images only\n",
        "Xtest = X_test.reshape(3589, 48, 48, 1)\n",
        "Xval = X_test.reshape(3589, 48, 48, 1)"
      ],
      "execution_count": null,
      "outputs": []
    },
    {
      "cell_type": "code",
      "metadata": {
        "id": "6qyBeHG-UD3v"
      },
      "source": [
        "import tensorflow as tf"
      ],
      "execution_count": null,
      "outputs": []
    },
    {
      "cell_type": "code",
      "metadata": {
        "id": "_ZPt2W_fUEt6"
      },
      "source": [
        "y_train = tf.keras.utils.to_categorical(y_train, num_classes = 7)\n",
        "y_test = tf.keras.utils.to_categorical(y_test, num_classes = 7)\n",
        "y_val = tf.keras.utils.to_categorical(y_val, num_classes = 7)"
      ],
      "execution_count": null,
      "outputs": []
    },
    {
      "cell_type": "code",
      "metadata": {
        "id": "cDoDxQNZUMt9"
      },
      "source": [
        "#Normalization\n",
        "Xtrain1 = Xtrain/255. #all pixels range from 0-255 in grey 0-back 255-white\n",
        "Xtest1 = Xtest/255. #Point is to put everything in float\n",
        "Xval1 = Xval/255."
      ],
      "execution_count": null,
      "outputs": []
    },
    {
      "cell_type": "code",
      "metadata": {
        "colab": {
          "base_uri": "https://localhost:8080/"
        },
        "id": "eJ15gWiNUQUt",
        "outputId": "6f14dad1-0fed-4ed6-bedb-b0680b8c2ae7"
      },
      "source": [
        "print(Xtrain1.shape)\n",
        "print(Xtest1.shape)\n",
        "print(Xval1.shape)\n",
        "print(y_val.shape)\n",
        "print(y_train.shape)\n",
        "print(y_test.shape)"
      ],
      "execution_count": null,
      "outputs": [
        {
          "output_type": "stream",
          "name": "stdout",
          "text": [
            "(28709, 48, 48, 1)\n",
            "(3589, 48, 48, 1)\n",
            "(3589, 48, 48, 1)\n",
            "(3589, 7)\n",
            "(28709, 7)\n",
            "(3589, 7)\n"
          ]
        }
      ]
    },
    {
      "cell_type": "code",
      "metadata": {
        "id": "m1WnTGeaUXCc"
      },
      "source": [
        "from tensorflow.keras.models import Sequential\n",
        "from tensorflow.keras.layers import Dense, Dropout, Conv2D, MaxPooling2D, Flatten, BatchNormalization\n",
        "from tensorflow.keras import regularizers, optimizers"
      ],
      "execution_count": null,
      "outputs": []
    },
    {
      "cell_type": "code",
      "metadata": {
        "id": "cOBl76qyUX3G"
      },
      "source": [
        "#CNN IMPLEMENTATION (Convolution -> understand FEAUTURES of each images + NN)\n",
        "cnn = Sequential()\n",
        "cnn.add(Conv2D(32,(3,3),activation = \"relu\", input_shape = (48, 48, 1))) #applying 32 kernels (kernel size 3X3)\n",
        "cnn.add(MaxPooling2D(pool_size = (2, 2))) #avg information\n",
        "cnn.add(Dropout(0.2)) #to deal with overfitting\n",
        "\n",
        "cnn.add(Conv2D(32,(3,3),activation = \"relu\")) #relu helps avoid negative valies (validates)\n",
        "cnn.add(MaxPooling2D(pool_size = (2, 2)))\n",
        "cnn.add(Dropout(0.2))\n",
        "cnn.add(Flatten()) #2D turns to 1D (48,48,1) 2304 number of neurons\n",
        "cnn.add(Dense(units = 256, activation = \"relu\"))\n",
        "\n",
        "cnn.add(Dense(units = 64, activation = \"relu\"))\n",
        "\n",
        "cnn.add(Dense(units = 7, activation = \"softmax\")) #Because we have 7 classes"
      ],
      "execution_count": null,
      "outputs": []
    },
    {
      "cell_type": "code",
      "metadata": {
        "id": "kkd0sOUOUb2r"
      },
      "source": [
        "cnn.compile(optimizer = \"adam\", loss = \"categorical_crossentropy\", metrics = [\"accuracy\"])"
      ],
      "execution_count": null,
      "outputs": []
    },
    {
      "cell_type": "code",
      "metadata": {
        "id": "l_NopwopUeto",
        "colab": {
          "base_uri": "https://localhost:8080/"
        },
        "outputId": "68e548c9-68ae-48e8-e363-8cebc023239a"
      },
      "source": [
        "model = cnn.fit(x = X_train, y = y_train, batch_size = 32, epochs = 10, validation_data = (X_test, y_test))"
      ],
      "execution_count": null,
      "outputs": [
        {
          "output_type": "stream",
          "name": "stdout",
          "text": [
            "Epoch 1/10\n",
            "898/898 [==============================] - 80s 87ms/step - loss: 2.2508 - accuracy: 0.2437 - val_loss: 1.7996 - val_accuracy: 0.2588\n",
            "Epoch 2/10\n",
            "898/898 [==============================] - 78s 87ms/step - loss: 1.7804 - accuracy: 0.2703 - val_loss: 1.7446 - val_accuracy: 0.2937\n",
            "Epoch 3/10\n",
            "898/898 [==============================] - 78s 87ms/step - loss: 1.7368 - accuracy: 0.2919 - val_loss: 1.7019 - val_accuracy: 0.3137\n",
            "Epoch 4/10\n",
            "898/898 [==============================] - 77s 85ms/step - loss: 1.6730 - accuracy: 0.3355 - val_loss: 1.6043 - val_accuracy: 0.3761\n",
            "Epoch 5/10\n",
            "898/898 [==============================] - 76s 85ms/step - loss: 1.5872 - accuracy: 0.3802 - val_loss: 1.5398 - val_accuracy: 0.4210\n",
            "Epoch 6/10\n",
            "898/898 [==============================] - 76s 84ms/step - loss: 1.5001 - accuracy: 0.4194 - val_loss: 1.4531 - val_accuracy: 0.4469\n",
            "Epoch 7/10\n",
            "898/898 [==============================] - 75s 83ms/step - loss: 1.3989 - accuracy: 0.4621 - val_loss: 1.3975 - val_accuracy: 0.4731\n",
            "Epoch 8/10\n",
            "898/898 [==============================] - 76s 85ms/step - loss: 1.2936 - accuracy: 0.5058 - val_loss: 1.3612 - val_accuracy: 0.4748\n",
            "Epoch 9/10\n",
            "898/898 [==============================] - 75s 84ms/step - loss: 1.1985 - accuracy: 0.5499 - val_loss: 1.3341 - val_accuracy: 0.5001\n",
            "Epoch 10/10\n",
            "898/898 [==============================] - 75s 84ms/step - loss: 1.0798 - accuracy: 0.5950 - val_loss: 1.3709 - val_accuracy: 0.5029\n"
          ]
        }
      ]
    },
    {
      "cell_type": "code",
      "metadata": {
        "id": "633_6iqKXR62"
      },
      "source": [
        "from keras.models import load_model\n",
        "model2 = load_model(\"/content/drive/MyDrive/cnn_model.hdf5\")"
      ],
      "execution_count": null,
      "outputs": []
    },
    {
      "cell_type": "code",
      "metadata": {
        "colab": {
          "base_uri": "https://localhost:8080/"
        },
        "id": "VYT9PEJSXSuM",
        "outputId": "d69c1ac0-b6d9-4603-e831-0831ce3c5969"
      },
      "source": [
        "model2.evaluate(X_test, y_test)\n",
        "model2.evaluate(X_train, y_train)\n",
        "model2.evaluate(X_val, y_val)"
      ],
      "execution_count": null,
      "outputs": [
        {
          "output_type": "stream",
          "name": "stdout",
          "text": [
            "113/113 [==============================] - 2s 20ms/step - loss: 1.3659 - accuracy: 0.4971\n",
            "898/898 [==============================] - 21s 23ms/step - loss: 0.9134 - accuracy: 0.6802\n",
            "113/113 [==============================] - 2s 20ms/step - loss: 1.3432 - accuracy: 0.5099\n"
          ]
        },
        {
          "output_type": "execute_result",
          "data": {
            "text/plain": [
              "[1.3431614637374878, 0.5098913311958313]"
            ]
          },
          "metadata": {},
          "execution_count": 78
        }
      ]
    },
    {
      "cell_type": "code",
      "metadata": {
        "colab": {
          "base_uri": "https://localhost:8080/",
          "height": 353
        },
        "id": "LVnTcBYx_I7q",
        "outputId": "093ba891-76eb-41b3-8e62-b3eee36002cf"
      },
      "source": [
        "from matplotlib import pyplot as plt\n",
        "plt.title(\"Accuracy of CNN\")\n",
        "plt.plot(model.history['accuracy'],'r')\n",
        "plt.plot(model.history['val_accuracy'],'g')\n"
      ],
      "execution_count": null,
      "outputs": [
        {
          "output_type": "execute_result",
          "data": {
            "text/plain": [
              "[<matplotlib.lines.Line2D at 0x7fda165cbe10>]"
            ]
          },
          "metadata": {},
          "execution_count": 81
        },
        {
          "output_type": "display_data",
          "data": {
            "image/png": "[encoded data removed]",
            "text/plain": [
              "<Figure size 720x360 with 1 Axes>"
            ]
          },
          "metadata": {
            "needs_background": "light"
          }
        }
      ]
    },
    {
      "cell_type": "markdown",
      "metadata": {
        "id": "3c9clvFKHA0V"
      },
      "source": [
        "### SVM w/ HOG"
      ]
    },
    {
      "cell_type": "code",
      "metadata": {
        "id": "FNjueGBYLy9b"
      },
      "source": [
        "class HogTransformer(BaseEstimator, TransformerMixin):\n",
        "    \"\"\"\n",
        "    Expects an array of 2d arrays (1 channel images)\n",
        "    Calculates hog features for each img\n",
        "    \"\"\"\n",
        " \n",
        "    def __init__(self, y=None, orientations=9,\n",
        "                 pixels_per_cell=(8, 8),\n",
        "                 cells_per_block=(3, 3), block_norm='L2-Hys'):\n",
        "        self.y = y\n",
        "        self.orientations = orientations\n",
        "        self.pixels_per_cell = pixels_per_cell\n",
        "        self.cells_per_block = cells_per_block\n",
        "        self.block_norm = block_norm\n",
        " \n",
        "    def fit(self, X, y=None):\n",
        "        return self\n",
        " \n",
        "    def transform(self, X, y=None):\n",
        " \n",
        "        def local_hog(X):\n",
        "            return hog(X,\n",
        "                       orientations=self.orientations,\n",
        "                       pixels_per_cell=self.pixels_per_cell,\n",
        "                       cells_per_block=self.cells_per_block,\n",
        "                       block_norm=self.block_norm)\n",
        " \n",
        "        try: # parallel\n",
        "            return np.array([local_hog(img) for img in X])\n",
        "        except:\n",
        "            return np.array([local_hog(img) for img in X])"
      ],
      "execution_count": null,
      "outputs": []
    },
    {
      "cell_type": "code",
      "metadata": {
        "id": "sdepFklvLznw"
      },
      "source": [
        "hogify = HogTransformer(\n",
        "    pixels_per_cell=(8, 8), \n",
        "    cells_per_block=(2,2), \n",
        "    orientations=8, \n",
        "    block_norm='L2-Hys'\n",
        ")\n",
        "\n",
        "scalify = StandardScaler()"
      ],
      "execution_count": null,
      "outputs": []
    },
    {
      "cell_type": "code",
      "metadata": {
        "id": "IoAAW4jQL2QP"
      },
      "source": [
        "X_train_hog = hogify.fit_transform(X_train)\n",
        "X_train_ready = scalify.fit_transform(X_train_hog)"
      ],
      "execution_count": null,
      "outputs": []
    },
    {
      "cell_type": "code",
      "metadata": {
        "id": "i3a572jPL29u"
      },
      "source": [
        "clf = sklearn.svm.SVC(C=5.547119471592124, max_iter=10000, random_state=0).fit(X_train_ready,y_train)"
      ],
      "execution_count": null,
      "outputs": []
    },
    {
      "cell_type": "markdown",
      "metadata": {
        "id": "oPEAbxlRHGj6"
      },
      "source": [
        "### Linear Neural Network w/ HOG"
      ]
    },
    {
      "cell_type": "code",
      "metadata": {
        "id": "E7EJaiVP-jYF"
      },
      "source": [
        "class HogTransformer(BaseEstimator, TransformerMixin):\n",
        "    \"\"\"\n",
        "    Expects an array of 2d arrays (1 channel images)\n",
        "    Calculates hog features for each img\n",
        "    \"\"\"\n",
        " \n",
        "    def __init__(self, y=None, orientations=9,\n",
        "                 pixels_per_cell=(8, 8),\n",
        "                 cells_per_block=(3, 3), block_norm='L2-Hys'):\n",
        "        self.y = y\n",
        "        self.orientations = orientations\n",
        "        self.pixels_per_cell = pixels_per_cell\n",
        "        self.cells_per_block = cells_per_block\n",
        "        self.block_norm = block_norm\n",
        " \n",
        "    def fit(self, X, y=None):\n",
        "        return self\n",
        " \n",
        "    def transform(self, X, y=None):\n",
        " \n",
        "        def local_hog(X):\n",
        "            return hog(X,\n",
        "                       orientations=self.orientations,\n",
        "                       pixels_per_cell=self.pixels_per_cell,\n",
        "                       cells_per_block=self.cells_per_block,\n",
        "                       block_norm=self.block_norm)\n",
        " \n",
        "        try: # parallel\n",
        "            return np.array([local_hog(img) for img in X])\n",
        "        except:\n",
        "            return np.array([local_hog(img) for img in X])"
      ],
      "execution_count": null,
      "outputs": []
    },
    {
      "cell_type": "code",
      "metadata": {
        "id": "NkBIfOSz-jYG"
      },
      "source": [
        "hogify = HogTransformer(\n",
        "    pixels_per_cell=(8, 8), \n",
        "    cells_per_block=(2,2), \n",
        "    orientations=8, \n",
        "    block_norm='L2-Hys'\n",
        ")\n",
        "\n",
        "scalify = StandardScaler()"
      ],
      "execution_count": null,
      "outputs": []
    },
    {
      "cell_type": "code",
      "metadata": {
        "id": "v48KJOgQ-jYH"
      },
      "source": [
        "X_train_hog = hogify.fit_transform(X_train)"
      ],
      "execution_count": null,
      "outputs": []
    },
    {
      "cell_type": "code",
      "metadata": {
        "id": "RU_j6T7j-jYI"
      },
      "source": [
        "X_train_ready = scalify.fit_transform(X_train_hog)"
      ],
      "execution_count": null,
      "outputs": []
    },
    {
      "cell_type": "code",
      "metadata": {
        "id": "L-S8VZEM-jYJ"
      },
      "source": [
        "nn = sklearn.neural_network.MLPClassifier(hidden_layer_sizes = (400,200,100,50), activation = 'relu',solver = 'adam', learning_rate_init = 0.001, max_iter = 200, random_state = 0, verbose = True).fit(X_train_ready, y_train)"
      ],
      "execution_count": null,
      "outputs": []
    },
    {
      "cell_type": "markdown",
      "metadata": {
        "id": "lufBEZNpVphv"
      },
      "source": [
        "## Attempts to fix over fitting\n",
        "\n",
        "- Attemps to fix overfirritng for SVM and Linear Neural Network were made but with insignificant chages\n",
        "- You can run them below to see\n",
        "- <font color = \"red\"> __Warning they take very long to finish training__</font>"
      ]
    },
    {
      "cell_type": "markdown",
      "metadata": {
        "id": "rpTFQOPPWGMn"
      },
      "source": [
        "### NN"
      ]
    },
    {
      "cell_type": "code",
      "metadata": {
        "id": "8b2Fc-J0gkQZ"
      },
      "source": [
        "X_train = X_train.reshape(X_train.shape[0],-1)\n",
        "X_val = X_val.reshape(X_val.shape[0],-1)\n",
        "X_test = X_test.reshape(X_test.shape[0],-1)"
      ],
      "execution_count": null,
      "outputs": []
    },
    {
      "cell_type": "code",
      "metadata": {
        "id": "ypBzeC_CgkQi"
      },
      "source": [
        "scalify = StandardScaler()\n",
        "X_train = scalify.fit_transform(X_train)\n",
        "X_val = scalify.transform(X_val)\n",
        "X_test = scalify.transform(X_test)"
      ],
      "execution_count": null,
      "outputs": []
    },
    {
      "cell_type": "code",
      "metadata": {
        "id": "MPdyB3CBgkQj"
      },
      "source": [
        "nn = sklearn.neural_network.MLPClassifier(hidden_layer_sizes = (400,200,100,50), activation = 'relu',solver = 'adam', learning_rate_init = 0.001, max_iter = 100, random_state = 0)\n",
        "\n",
        "clf = BaggingClassifier(base_estimator=nn,n_estimators=10, random_state=0, verbose=True).fit(X_train, y_train)"
      ],
      "execution_count": null,
      "outputs": []
    },
    {
      "cell_type": "markdown",
      "metadata": {
        "id": "ExUQjeF3WMXk"
      },
      "source": [
        "### SVM"
      ]
    },
    {
      "cell_type": "code",
      "metadata": {
        "id": "N3rqHThzsA7i"
      },
      "source": [
        "X_train = X_train.reshape(X_train.shape[0],-1)\n",
        "X_val = X_val.reshape(X_val.shape[0],-1)\n",
        "X_test = X_test.reshape(X_test.shape[0],-1)"
      ],
      "execution_count": null,
      "outputs": []
    },
    {
      "cell_type": "code",
      "metadata": {
        "id": "9e4Ik9XHsGhN"
      },
      "source": [
        "scalify = StandardScaler()\n",
        "X_train = scalify.fit_transform(X_train)\n",
        "X_val = scalify.transform(X_val)\n",
        "X_test = scalify.transform(X_test)"
      ],
      "execution_count": null,
      "outputs": []
    },
    {
      "cell_type": "code",
      "metadata": {
        "id": "tdomgTrDsMjk"
      },
      "source": [
        "params = {'C': scipy.stats.reciprocal(0.01,1000.0)}\n",
        "clf = sklearn.svm.SVC(max_iter=10000,random_state = 0)\n",
        "search = sklearn.model_selection.RandomizedSearchCV(clf, params, verbose=1, random_state=0, n_iter= 5, cv= 2).fit(X_train,y_train)"
      ],
      "execution_count": null,
      "outputs": []
    }
  ]
}